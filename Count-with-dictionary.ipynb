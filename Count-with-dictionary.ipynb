{
 "cells": [
  {
   "cell_type": "code",
   "execution_count": null,
   "metadata": {
    "collapsed": true
   },
   "outputs": [],
   "source": [
    "# Counting males or females in a group \n",
    "# Import pandas\n",
    "import pandas as pd\n",
    "\n",
    "# Import your data as DataFrame: df\n",
    "df = pd.read_csv('data.csv')\n",
    "\n",
    "# Initialize an empty dictionary: male_heads_count\n",
    "male_heads_count = {}\n",
    "\n",
    "# Extract column from DataFrame: col\n",
    "col = df['heads']\n",
    "\n",
    "# Iterate over heads column in DataFrame\n",
    "for entry in col:\n",
    "\n",
    "    # If the person is in male_heads_count, add 1\n",
    "    if entry in male_heads_count.keys():\n",
    "        male_heads_count[entry] += 1\n",
    "    # Else add the person to male_heads_count, set the value to 1\n",
    "    else:\n",
    "        male_heads_count[entry]=1\n",
    "\n",
    "# Print the populated dictionary\n",
    "print(male_heads_count)\n"
   ]
  }
 ],
 "metadata": {
  "kernelspec": {
   "display_name": "Python 3",
   "language": "python",
   "name": "python3"
  },
  "language_info": {
   "codemirror_mode": {
    "name": "ipython",
    "version": 3
   },
   "file_extension": ".py",
   "mimetype": "text/x-python",
   "name": "python",
   "nbconvert_exporter": "python",
   "pygments_lexer": "ipython3",
   "version": "3.6.3"
  }
 },
 "nbformat": 4,
 "nbformat_minor": 2
}
